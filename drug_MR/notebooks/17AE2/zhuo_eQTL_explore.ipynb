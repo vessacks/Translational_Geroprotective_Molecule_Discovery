{
 "cells": [
  {
   "cell_type": "markdown",
   "metadata": {},
   "source": [
    "#Overview\n",
    "This is an exploratory search for cis eQTLs of ESR1 in liver tissue from \"A resource for integrated genomic analysis of the human liver\" Zhou et al 2022. Data came from:https://github.com/zhouLabNCSU/Liver_project_resources\n",
    "\n"
   ]
  },
  {
   "cell_type": "code",
   "execution_count": 10,
   "metadata": {},
   "outputs": [
    {
     "name": "stdout",
     "output_type": "stream",
     "text": [
      "##gff-version 3\n",
      "##Note: See http://song.sourceforge.net\n",
      "\n",
      "# file: UNC_cis-eQTL.gff\n",
      "chr1\tUNC_eQTL\tcis_eQTL_segment\t1104153\t1172777\t-1\t+\t.\tID=237973_UNC_eQTL;Name=hsa-mir-6723\n",
      "chr1\tUNC_eQTL\tGene_body\t566454\t567996\t-1\t+\t.\tParent=237973_UNC_eQTL\n",
      "chr1\tUNC_eQTL\tUNC_cis_eQTL\t1104154\t1104154\t4.306\t+\t.\tParent=237973_UNC_eQTL;Name=hsa-mir-6723;Note=rs111420185;Alias=rs111420185\n",
      "chr1\tUNC_eQTL\tUNC_cis_eQTL\t1119426\t1119426\t3.67\t+\t.\tParent=237973_UNC_eQTL;Name=hsa-mir-6723;Note=rs74586415;Alias=rs74586415\n",
      "chr1\tUNC_eQTL\tUNC_cis_eQTL\t1119636\t1119636\t3.668\t+\t.\tParent=237973_UNC_eQTL;Name=hsa-mir-6723;Note=rs75418966;Alias=rs75418966\n",
      "chr1\tUNC_eQTL\tUNC_cis_eQTL\t1171379\t1171379\t3.735\t+\t.\tParent=237973_UNC_eQTL;Name=hsa-mir-6723;Note=rs115111053;Alias=rs115111053\n"
     ]
    }
   ],
   "source": [
    "import pandas as pd \n",
    "import os\n",
    "\n",
    "#check for headers\n",
    "with open(\"UNC_cis-eQTL_zhou_2022.gff\", \"r\") as f:\n",
    "    for _ in range(10):\n",
    "        print(f.readline().strip())\n",
    "#none found. no colnames. gpt says use standard gff colnames\n"
   ]
  },
  {
   "cell_type": "code",
   "execution_count": 18,
   "metadata": {},
   "outputs": [
    {
     "data": {
      "text/plain": [
       "(732462, 9)"
      ]
     },
     "execution_count": 18,
     "metadata": {},
     "output_type": "execute_result"
    }
   ],
   "source": [
    "\n",
    "data_path = os.path.join(os.getcwd(), \"UNC_cis-eQTL_zhou_2022.gff\")\n",
    "df = pd.read_csv(data_path, sep='\\t', comment='#', header=None)\n",
    "df.columns = [\"seqid\", \"source\", \"type\", \"start\", \"end\", \"score\", \"strand\", \"phase\", \"attributes\"]\n",
    "df.shape\n"
   ]
  },
  {
   "cell_type": "code",
   "execution_count": 25,
   "metadata": {},
   "outputs": [
    {
     "name": "stdout",
     "output_type": "stream",
     "text": [
      "ID=237973_UNC_eQTL;Name=hsa-mir-6723\n",
      "Parent=237973_UNC_eQTL\n",
      "Parent=237973_UNC_eQTL;Name=hsa-mir-6723;Note=rs111420185;Alias=rs111420185\n",
      "Parent=237973_UNC_eQTL;Name=hsa-mir-6723;Note=rs74586415;Alias=rs74586415\n"
     ]
    }
   ],
   "source": [
    "#looking for gene names now\n",
    "for count in range(4):\\\n",
    "print(df.loc[count,'attributes'])"
   ]
  },
  {
   "cell_type": "code",
   "execution_count": 21,
   "metadata": {},
   "outputs": [
    {
     "data": {
      "text/html": [
       "<div>\n",
       "<style scoped>\n",
       "    .dataframe tbody tr th:only-of-type {\n",
       "        vertical-align: middle;\n",
       "    }\n",
       "\n",
       "    .dataframe tbody tr th {\n",
       "        vertical-align: top;\n",
       "    }\n",
       "\n",
       "    .dataframe thead th {\n",
       "        text-align: right;\n",
       "    }\n",
       "</style>\n",
       "<table border=\"1\" class=\"dataframe\">\n",
       "  <thead>\n",
       "    <tr style=\"text-align: right;\">\n",
       "      <th></th>\n",
       "      <th>seqid</th>\n",
       "      <th>source</th>\n",
       "      <th>type</th>\n",
       "      <th>start</th>\n",
       "      <th>end</th>\n",
       "      <th>score</th>\n",
       "      <th>strand</th>\n",
       "      <th>phase</th>\n",
       "      <th>attributes</th>\n",
       "    </tr>\n",
       "  </thead>\n",
       "  <tbody>\n",
       "    <tr>\n",
       "      <th>0</th>\n",
       "      <td>chr1</td>\n",
       "      <td>UNC_eQTL</td>\n",
       "      <td>cis_eQTL_segment</td>\n",
       "      <td>1104153</td>\n",
       "      <td>1172777</td>\n",
       "      <td>-1.000</td>\n",
       "      <td>+</td>\n",
       "      <td>.</td>\n",
       "      <td>ID=237973_UNC_eQTL;Name=hsa-mir-6723</td>\n",
       "    </tr>\n",
       "    <tr>\n",
       "      <th>1</th>\n",
       "      <td>chr1</td>\n",
       "      <td>UNC_eQTL</td>\n",
       "      <td>Gene_body</td>\n",
       "      <td>566454</td>\n",
       "      <td>567996</td>\n",
       "      <td>-1.000</td>\n",
       "      <td>+</td>\n",
       "      <td>.</td>\n",
       "      <td>Parent=237973_UNC_eQTL</td>\n",
       "    </tr>\n",
       "    <tr>\n",
       "      <th>2</th>\n",
       "      <td>chr1</td>\n",
       "      <td>UNC_eQTL</td>\n",
       "      <td>UNC_cis_eQTL</td>\n",
       "      <td>1104154</td>\n",
       "      <td>1104154</td>\n",
       "      <td>4.306</td>\n",
       "      <td>+</td>\n",
       "      <td>.</td>\n",
       "      <td>Parent=237973_UNC_eQTL;Name=hsa-mir-6723;Note=...</td>\n",
       "    </tr>\n",
       "    <tr>\n",
       "      <th>3</th>\n",
       "      <td>chr1</td>\n",
       "      <td>UNC_eQTL</td>\n",
       "      <td>UNC_cis_eQTL</td>\n",
       "      <td>1119426</td>\n",
       "      <td>1119426</td>\n",
       "      <td>3.670</td>\n",
       "      <td>+</td>\n",
       "      <td>.</td>\n",
       "      <td>Parent=237973_UNC_eQTL;Name=hsa-mir-6723;Note=...</td>\n",
       "    </tr>\n",
       "    <tr>\n",
       "      <th>4</th>\n",
       "      <td>chr1</td>\n",
       "      <td>UNC_eQTL</td>\n",
       "      <td>UNC_cis_eQTL</td>\n",
       "      <td>1119636</td>\n",
       "      <td>1119636</td>\n",
       "      <td>3.668</td>\n",
       "      <td>+</td>\n",
       "      <td>.</td>\n",
       "      <td>Parent=237973_UNC_eQTL;Name=hsa-mir-6723;Note=...</td>\n",
       "    </tr>\n",
       "  </tbody>\n",
       "</table>\n",
       "</div>"
      ],
      "text/plain": [
       "  seqid    source              type    start      end  score strand phase  \\\n",
       "0  chr1  UNC_eQTL  cis_eQTL_segment  1104153  1172777 -1.000      +     .   \n",
       "1  chr1  UNC_eQTL         Gene_body   566454   567996 -1.000      +     .   \n",
       "2  chr1  UNC_eQTL      UNC_cis_eQTL  1104154  1104154  4.306      +     .   \n",
       "3  chr1  UNC_eQTL      UNC_cis_eQTL  1119426  1119426  3.670      +     .   \n",
       "4  chr1  UNC_eQTL      UNC_cis_eQTL  1119636  1119636  3.668      +     .   \n",
       "\n",
       "                                          attributes  \n",
       "0               ID=237973_UNC_eQTL;Name=hsa-mir-6723  \n",
       "1                             Parent=237973_UNC_eQTL  \n",
       "2  Parent=237973_UNC_eQTL;Name=hsa-mir-6723;Note=...  \n",
       "3  Parent=237973_UNC_eQTL;Name=hsa-mir-6723;Note=...  \n",
       "4  Parent=237973_UNC_eQTL;Name=hsa-mir-6723;Note=...  "
      ]
     },
     "execution_count": 21,
     "metadata": {},
     "output_type": "execute_result"
    }
   ],
   "source": [
    "df.head(5)"
   ]
  },
  {
   "cell_type": "code",
   "execution_count": null,
   "metadata": {},
   "outputs": [],
   "source": [
    "#we need to extract the eQTL gene names and rsid from the attributes. We've learned there's five features stashed in attributes\n",
    "import re\n",
    "\n",
    "def extract_attribute(string):\n",
    "    '''\n",
    "    Extracts the squashed string columns from this gff file, returning their values as a series.\n",
    "    \n",
    "    parameters:\n",
    "    string: str\n",
    "        The GFF attribute column as a string\n",
    "\n",
    "    returns:\n",
    "    pd.Series\n",
    "        A pandas series containing id,parent,name,note and alias values for each row. \n",
    "\n",
    "    \n",
    "    notes:\n",
    "    Recompiles regex on every call, inefficient for large datasets but untroubling for datasets <3,000,000 rows\n",
    "    '''\n",
    "    id = re.search(r\"ID=([^;]+)\", string)\n",
    "    parent = re.search(r\"Parent=([^;]+)\", string)\n",
    "    name = re.search(r\"Name=([^;]+)\", string)\n",
    "    note = re.search(r\"Note=([^;]+)\", string)\n",
    "    alias = re.search(r\"Alias=([^;]+)\", string)\n",
    "    return pd.Series([id.group(1) if id else None,\n",
    "                    parent.group(1) if parent else None,\n",
    "                    name.group(1) if name else None,\n",
    "                    note.group(1) if note else None,\n",
    "                    alias.group(1) if alias else None])\n",
    "\n",
    "#extract the columns\n",
    "df[['id','parent','name','note','alias']] = df['attributes'].apply(lambda x: extract_attribute(x))\n",
    "\n",
    "#check whether extraction went to plan\n",
    "print(df.columns)\n",
    "print(df.head(3))\n"
   ]
  },
  {
   "cell_type": "code",
   "execution_count": null,
   "metadata": {},
   "outputs": [],
   "source": [
    "#now we filter for eQTLs of ESR1 and known ESR1 downstream genes\n",
    "\n"
   ]
  }
 ],
 "metadata": {
  "kernelspec": {
   "display_name": "Python 3",
   "language": "python",
   "name": "python3"
  },
  "language_info": {
   "codemirror_mode": {
    "name": "ipython",
    "version": 3
   },
   "file_extension": ".py",
   "mimetype": "text/x-python",
   "name": "python",
   "nbconvert_exporter": "python",
   "pygments_lexer": "ipython3",
   "version": "3.13.2"
  }
 },
 "nbformat": 4,
 "nbformat_minor": 2
}
